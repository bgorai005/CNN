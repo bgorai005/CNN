{
  "cells": [
    {
      "cell_type": "markdown",
      "metadata": {
        "id": "hrDOIMiMZNCC"
      },
      "source": [
        "# Hospital Readmission Prediction - Feature Engineering\n",
        "\n",
        "This notebook focuses on feature engineering for the hospital readmission prediction model. We'll transform raw features into more informative ones and prepare the data for modeling."
      ]
    },
    {
      "cell_type": "code",
      "execution_count": 2,
      "metadata": {
        "id": "_-OU6-2YZNCE"
      },
      "outputs": [],
      "source": [
        "import pandas as pd\n",
        "import numpy as np\n",
        "import matplotlib.pyplot as plt\n",
        "import seaborn as sns\n",
        "from sklearn.preprocessing import StandardScaler\n",
        "from sklearn.feature_selection import SelectKBest, f_classif, RFE\n",
        "from sklearn.ensemble import RandomForestClassifier\n",
        "import warnings\n",
        "plt.style.use('seaborn-v0_8-whitegrid')\n",
        "sns.set_palette('Set2')\n",
        "pd.set_option('display.max_columns', None)\n",
        "pd.set_option('display.width', 1000)\n",
        "warnings.filterwarnings('ignore')"
      ]
    },
    {
      "cell_type": "markdown",
      "metadata": {
        "id": "dHQMcGJAZNCF"
      },
      "source": [
        "## 1. Load the Data"
      ]
    },
    {
      "cell_type": "code",
      "execution_count": 5,
      "metadata": {
        "id": "lQACXwpWZNCF",
        "colab": {
          "base_uri": "https://localhost:8080/",
          "height": 347
        },
        "outputId": "fc96824b-89a5-4eae-8c65-cb97c0999dcc"
      },
      "outputs": [
        {
          "output_type": "stream",
          "name": "stdout",
          "text": [
            "Dataset shape: (101766, 50)\n"
          ]
        },
        {
          "output_type": "execute_result",
          "data": {
            "text/plain": [
              "   encounter_id  patient_nbr             race  gender      age weight  admission_type_id  discharge_disposition_id  admission_source_id  time_in_hospital payer_code         medical_specialty  num_lab_procedures  num_procedures  num_medications  number_outpatient  number_emergency  number_inpatient  diag_1  diag_2 diag_3  number_diagnoses max_glu_serum A1Cresult metformin repaglinide nateglinide chlorpropamide glimepiride acetohexamide glipizide glyburide tolbutamide pioglitazone rosiglitazone acarbose miglitol troglitazone tolazamide examide citoglipton insulin glyburide-metformin glipizide-metformin glimepiride-pioglitazone metformin-rosiglitazone metformin-pioglitazone change diabetesMed readmitted\n",
              "0       2278392      8222157        Caucasian  Female   [0-10)      ?                  6                        25                    1                 1          ?  Pediatrics-Endocrinology                  41               0                1                  0                 0                 0  250.83       ?      ?                 1           NaN       NaN        No          No          No             No          No            No        No        No          No           No            No       No       No           No         No      No          No      No                  No                  No                       No                      No                     No     No          No         NO\n",
              "1        149190     55629189        Caucasian  Female  [10-20)      ?                  1                         1                    7                 3          ?                         ?                  59               0               18                  0                 0                 0     276  250.01    255                 9           NaN       NaN        No          No          No             No          No            No        No        No          No           No            No       No       No           No         No      No          No      Up                  No                  No                       No                      No                     No     Ch         Yes        >30\n",
              "2         64410     86047875  AfricanAmerican  Female  [20-30)      ?                  1                         1                    7                 2          ?                         ?                  11               5               13                  2                 0                 1     648     250    V27                 6           NaN       NaN        No          No          No             No          No            No    Steady        No          No           No            No       No       No           No         No      No          No      No                  No                  No                       No                      No                     No     No         Yes         NO\n",
              "3        500364     82442376        Caucasian    Male  [30-40)      ?                  1                         1                    7                 2          ?                         ?                  44               1               16                  0                 0                 0       8  250.43    403                 7           NaN       NaN        No          No          No             No          No            No        No        No          No           No            No       No       No           No         No      No          No      Up                  No                  No                       No                      No                     No     Ch         Yes         NO\n",
              "4         16680     42519267        Caucasian    Male  [40-50)      ?                  1                         1                    7                 1          ?                         ?                  51               0                8                  0                 0                 0     197     157    250                 5           NaN       NaN        No          No          No             No          No            No    Steady        No          No           No            No       No       No           No         No      No          No  Steady                  No                  No                       No                      No                     No     Ch         Yes         NO"
            ],
            "text/html": [
              "\n",
              "  <div id=\"df-6bc666f1-8746-4b9e-a1f7-a07ccf69ae18\" class=\"colab-df-container\">\n",
              "    <div>\n",
              "<style scoped>\n",
              "    .dataframe tbody tr th:only-of-type {\n",
              "        vertical-align: middle;\n",
              "    }\n",
              "\n",
              "    .dataframe tbody tr th {\n",
              "        vertical-align: top;\n",
              "    }\n",
              "\n",
              "    .dataframe thead th {\n",
              "        text-align: right;\n",
              "    }\n",
              "</style>\n",
              "<table border=\"1\" class=\"dataframe\">\n",
              "  <thead>\n",
              "    <tr style=\"text-align: right;\">\n",
              "      <th></th>\n",
              "      <th>encounter_id</th>\n",
              "      <th>patient_nbr</th>\n",
              "      <th>race</th>\n",
              "      <th>gender</th>\n",
              "      <th>age</th>\n",
              "      <th>weight</th>\n",
              "      <th>admission_type_id</th>\n",
              "      <th>discharge_disposition_id</th>\n",
              "      <th>admission_source_id</th>\n",
              "      <th>time_in_hospital</th>\n",
              "      <th>payer_code</th>\n",
              "      <th>medical_specialty</th>\n",
              "      <th>num_lab_procedures</th>\n",
              "      <th>num_procedures</th>\n",
              "      <th>num_medications</th>\n",
              "      <th>number_outpatient</th>\n",
              "      <th>number_emergency</th>\n",
              "      <th>number_inpatient</th>\n",
              "      <th>diag_1</th>\n",
              "      <th>diag_2</th>\n",
              "      <th>diag_3</th>\n",
              "      <th>number_diagnoses</th>\n",
              "      <th>max_glu_serum</th>\n",
              "      <th>A1Cresult</th>\n",
              "      <th>metformin</th>\n",
              "      <th>repaglinide</th>\n",
              "      <th>nateglinide</th>\n",
              "      <th>chlorpropamide</th>\n",
              "      <th>glimepiride</th>\n",
              "      <th>acetohexamide</th>\n",
              "      <th>glipizide</th>\n",
              "      <th>glyburide</th>\n",
              "      <th>tolbutamide</th>\n",
              "      <th>pioglitazone</th>\n",
              "      <th>rosiglitazone</th>\n",
              "      <th>acarbose</th>\n",
              "      <th>miglitol</th>\n",
              "      <th>troglitazone</th>\n",
              "      <th>tolazamide</th>\n",
              "      <th>examide</th>\n",
              "      <th>citoglipton</th>\n",
              "      <th>insulin</th>\n",
              "      <th>glyburide-metformin</th>\n",
              "      <th>glipizide-metformin</th>\n",
              "      <th>glimepiride-pioglitazone</th>\n",
              "      <th>metformin-rosiglitazone</th>\n",
              "      <th>metformin-pioglitazone</th>\n",
              "      <th>change</th>\n",
              "      <th>diabetesMed</th>\n",
              "      <th>readmitted</th>\n",
              "    </tr>\n",
              "  </thead>\n",
              "  <tbody>\n",
              "    <tr>\n",
              "      <th>0</th>\n",
              "      <td>2278392</td>\n",
              "      <td>8222157</td>\n",
              "      <td>Caucasian</td>\n",
              "      <td>Female</td>\n",
              "      <td>[0-10)</td>\n",
              "      <td>?</td>\n",
              "      <td>6</td>\n",
              "      <td>25</td>\n",
              "      <td>1</td>\n",
              "      <td>1</td>\n",
              "      <td>?</td>\n",
              "      <td>Pediatrics-Endocrinology</td>\n",
              "      <td>41</td>\n",
              "      <td>0</td>\n",
              "      <td>1</td>\n",
              "      <td>0</td>\n",
              "      <td>0</td>\n",
              "      <td>0</td>\n",
              "      <td>250.83</td>\n",
              "      <td>?</td>\n",
              "      <td>?</td>\n",
              "      <td>1</td>\n",
              "      <td>NaN</td>\n",
              "      <td>NaN</td>\n",
              "      <td>No</td>\n",
              "      <td>No</td>\n",
              "      <td>No</td>\n",
              "      <td>No</td>\n",
              "      <td>No</td>\n",
              "      <td>No</td>\n",
              "      <td>No</td>\n",
              "      <td>No</td>\n",
              "      <td>No</td>\n",
              "      <td>No</td>\n",
              "      <td>No</td>\n",
              "      <td>No</td>\n",
              "      <td>No</td>\n",
              "      <td>No</td>\n",
              "      <td>No</td>\n",
              "      <td>No</td>\n",
              "      <td>No</td>\n",
              "      <td>No</td>\n",
              "      <td>No</td>\n",
              "      <td>No</td>\n",
              "      <td>No</td>\n",
              "      <td>No</td>\n",
              "      <td>No</td>\n",
              "      <td>No</td>\n",
              "      <td>No</td>\n",
              "      <td>NO</td>\n",
              "    </tr>\n",
              "    <tr>\n",
              "      <th>1</th>\n",
              "      <td>149190</td>\n",
              "      <td>55629189</td>\n",
              "      <td>Caucasian</td>\n",
              "      <td>Female</td>\n",
              "      <td>[10-20)</td>\n",
              "      <td>?</td>\n",
              "      <td>1</td>\n",
              "      <td>1</td>\n",
              "      <td>7</td>\n",
              "      <td>3</td>\n",
              "      <td>?</td>\n",
              "      <td>?</td>\n",
              "      <td>59</td>\n",
              "      <td>0</td>\n",
              "      <td>18</td>\n",
              "      <td>0</td>\n",
              "      <td>0</td>\n",
              "      <td>0</td>\n",
              "      <td>276</td>\n",
              "      <td>250.01</td>\n",
              "      <td>255</td>\n",
              "      <td>9</td>\n",
              "      <td>NaN</td>\n",
              "      <td>NaN</td>\n",
              "      <td>No</td>\n",
              "      <td>No</td>\n",
              "      <td>No</td>\n",
              "      <td>No</td>\n",
              "      <td>No</td>\n",
              "      <td>No</td>\n",
              "      <td>No</td>\n",
              "      <td>No</td>\n",
              "      <td>No</td>\n",
              "      <td>No</td>\n",
              "      <td>No</td>\n",
              "      <td>No</td>\n",
              "      <td>No</td>\n",
              "      <td>No</td>\n",
              "      <td>No</td>\n",
              "      <td>No</td>\n",
              "      <td>No</td>\n",
              "      <td>Up</td>\n",
              "      <td>No</td>\n",
              "      <td>No</td>\n",
              "      <td>No</td>\n",
              "      <td>No</td>\n",
              "      <td>No</td>\n",
              "      <td>Ch</td>\n",
              "      <td>Yes</td>\n",
              "      <td>&gt;30</td>\n",
              "    </tr>\n",
              "    <tr>\n",
              "      <th>2</th>\n",
              "      <td>64410</td>\n",
              "      <td>86047875</td>\n",
              "      <td>AfricanAmerican</td>\n",
              "      <td>Female</td>\n",
              "      <td>[20-30)</td>\n",
              "      <td>?</td>\n",
              "      <td>1</td>\n",
              "      <td>1</td>\n",
              "      <td>7</td>\n",
              "      <td>2</td>\n",
              "      <td>?</td>\n",
              "      <td>?</td>\n",
              "      <td>11</td>\n",
              "      <td>5</td>\n",
              "      <td>13</td>\n",
              "      <td>2</td>\n",
              "      <td>0</td>\n",
              "      <td>1</td>\n",
              "      <td>648</td>\n",
              "      <td>250</td>\n",
              "      <td>V27</td>\n",
              "      <td>6</td>\n",
              "      <td>NaN</td>\n",
              "      <td>NaN</td>\n",
              "      <td>No</td>\n",
              "      <td>No</td>\n",
              "      <td>No</td>\n",
              "      <td>No</td>\n",
              "      <td>No</td>\n",
              "      <td>No</td>\n",
              "      <td>Steady</td>\n",
              "      <td>No</td>\n",
              "      <td>No</td>\n",
              "      <td>No</td>\n",
              "      <td>No</td>\n",
              "      <td>No</td>\n",
              "      <td>No</td>\n",
              "      <td>No</td>\n",
              "      <td>No</td>\n",
              "      <td>No</td>\n",
              "      <td>No</td>\n",
              "      <td>No</td>\n",
              "      <td>No</td>\n",
              "      <td>No</td>\n",
              "      <td>No</td>\n",
              "      <td>No</td>\n",
              "      <td>No</td>\n",
              "      <td>No</td>\n",
              "      <td>Yes</td>\n",
              "      <td>NO</td>\n",
              "    </tr>\n",
              "    <tr>\n",
              "      <th>3</th>\n",
              "      <td>500364</td>\n",
              "      <td>82442376</td>\n",
              "      <td>Caucasian</td>\n",
              "      <td>Male</td>\n",
              "      <td>[30-40)</td>\n",
              "      <td>?</td>\n",
              "      <td>1</td>\n",
              "      <td>1</td>\n",
              "      <td>7</td>\n",
              "      <td>2</td>\n",
              "      <td>?</td>\n",
              "      <td>?</td>\n",
              "      <td>44</td>\n",
              "      <td>1</td>\n",
              "      <td>16</td>\n",
              "      <td>0</td>\n",
              "      <td>0</td>\n",
              "      <td>0</td>\n",
              "      <td>8</td>\n",
              "      <td>250.43</td>\n",
              "      <td>403</td>\n",
              "      <td>7</td>\n",
              "      <td>NaN</td>\n",
              "      <td>NaN</td>\n",
              "      <td>No</td>\n",
              "      <td>No</td>\n",
              "      <td>No</td>\n",
              "      <td>No</td>\n",
              "      <td>No</td>\n",
              "      <td>No</td>\n",
              "      <td>No</td>\n",
              "      <td>No</td>\n",
              "      <td>No</td>\n",
              "      <td>No</td>\n",
              "      <td>No</td>\n",
              "      <td>No</td>\n",
              "      <td>No</td>\n",
              "      <td>No</td>\n",
              "      <td>No</td>\n",
              "      <td>No</td>\n",
              "      <td>No</td>\n",
              "      <td>Up</td>\n",
              "      <td>No</td>\n",
              "      <td>No</td>\n",
              "      <td>No</td>\n",
              "      <td>No</td>\n",
              "      <td>No</td>\n",
              "      <td>Ch</td>\n",
              "      <td>Yes</td>\n",
              "      <td>NO</td>\n",
              "    </tr>\n",
              "    <tr>\n",
              "      <th>4</th>\n",
              "      <td>16680</td>\n",
              "      <td>42519267</td>\n",
              "      <td>Caucasian</td>\n",
              "      <td>Male</td>\n",
              "      <td>[40-50)</td>\n",
              "      <td>?</td>\n",
              "      <td>1</td>\n",
              "      <td>1</td>\n",
              "      <td>7</td>\n",
              "      <td>1</td>\n",
              "      <td>?</td>\n",
              "      <td>?</td>\n",
              "      <td>51</td>\n",
              "      <td>0</td>\n",
              "      <td>8</td>\n",
              "      <td>0</td>\n",
              "      <td>0</td>\n",
              "      <td>0</td>\n",
              "      <td>197</td>\n",
              "      <td>157</td>\n",
              "      <td>250</td>\n",
              "      <td>5</td>\n",
              "      <td>NaN</td>\n",
              "      <td>NaN</td>\n",
              "      <td>No</td>\n",
              "      <td>No</td>\n",
              "      <td>No</td>\n",
              "      <td>No</td>\n",
              "      <td>No</td>\n",
              "      <td>No</td>\n",
              "      <td>Steady</td>\n",
              "      <td>No</td>\n",
              "      <td>No</td>\n",
              "      <td>No</td>\n",
              "      <td>No</td>\n",
              "      <td>No</td>\n",
              "      <td>No</td>\n",
              "      <td>No</td>\n",
              "      <td>No</td>\n",
              "      <td>No</td>\n",
              "      <td>No</td>\n",
              "      <td>Steady</td>\n",
              "      <td>No</td>\n",
              "      <td>No</td>\n",
              "      <td>No</td>\n",
              "      <td>No</td>\n",
              "      <td>No</td>\n",
              "      <td>Ch</td>\n",
              "      <td>Yes</td>\n",
              "      <td>NO</td>\n",
              "    </tr>\n",
              "  </tbody>\n",
              "</table>\n",
              "</div>\n",
              "    <div class=\"colab-df-buttons\">\n",
              "\n",
              "  <div class=\"colab-df-container\">\n",
              "    <button class=\"colab-df-convert\" onclick=\"convertToInteractive('df-6bc666f1-8746-4b9e-a1f7-a07ccf69ae18')\"\n",
              "            title=\"Convert this dataframe to an interactive table.\"\n",
              "            style=\"display:none;\">\n",
              "\n",
              "  <svg xmlns=\"http://www.w3.org/2000/svg\" height=\"24px\" viewBox=\"0 -960 960 960\">\n",
              "    <path d=\"M120-120v-720h720v720H120Zm60-500h600v-160H180v160Zm220 220h160v-160H400v160Zm0 220h160v-160H400v160ZM180-400h160v-160H180v160Zm440 0h160v-160H620v160ZM180-180h160v-160H180v160Zm440 0h160v-160H620v160Z\"/>\n",
              "  </svg>\n",
              "    </button>\n",
              "\n",
              "  <style>\n",
              "    .colab-df-container {\n",
              "      display:flex;\n",
              "      gap: 12px;\n",
              "    }\n",
              "\n",
              "    .colab-df-convert {\n",
              "      background-color: #E8F0FE;\n",
              "      border: none;\n",
              "      border-radius: 50%;\n",
              "      cursor: pointer;\n",
              "      display: none;\n",
              "      fill: #1967D2;\n",
              "      height: 32px;\n",
              "      padding: 0 0 0 0;\n",
              "      width: 32px;\n",
              "    }\n",
              "\n",
              "    .colab-df-convert:hover {\n",
              "      background-color: #E2EBFA;\n",
              "      box-shadow: 0px 1px 2px rgba(60, 64, 67, 0.3), 0px 1px 3px 1px rgba(60, 64, 67, 0.15);\n",
              "      fill: #174EA6;\n",
              "    }\n",
              "\n",
              "    .colab-df-buttons div {\n",
              "      margin-bottom: 4px;\n",
              "    }\n",
              "\n",
              "    [theme=dark] .colab-df-convert {\n",
              "      background-color: #3B4455;\n",
              "      fill: #D2E3FC;\n",
              "    }\n",
              "\n",
              "    [theme=dark] .colab-df-convert:hover {\n",
              "      background-color: #434B5C;\n",
              "      box-shadow: 0px 1px 3px 1px rgba(0, 0, 0, 0.15);\n",
              "      filter: drop-shadow(0px 1px 2px rgba(0, 0, 0, 0.3));\n",
              "      fill: #FFFFFF;\n",
              "    }\n",
              "  </style>\n",
              "\n",
              "    <script>\n",
              "      const buttonEl =\n",
              "        document.querySelector('#df-6bc666f1-8746-4b9e-a1f7-a07ccf69ae18 button.colab-df-convert');\n",
              "      buttonEl.style.display =\n",
              "        google.colab.kernel.accessAllowed ? 'block' : 'none';\n",
              "\n",
              "      async function convertToInteractive(key) {\n",
              "        const element = document.querySelector('#df-6bc666f1-8746-4b9e-a1f7-a07ccf69ae18');\n",
              "        const dataTable =\n",
              "          await google.colab.kernel.invokeFunction('convertToInteractive',\n",
              "                                                    [key], {});\n",
              "        if (!dataTable) return;\n",
              "\n",
              "        const docLinkHtml = 'Like what you see? Visit the ' +\n",
              "          '<a target=\"_blank\" href=https://colab.research.google.com/notebooks/data_table.ipynb>data table notebook</a>'\n",
              "          + ' to learn more about interactive tables.';\n",
              "        element.innerHTML = '';\n",
              "        dataTable['output_type'] = 'display_data';\n",
              "        await google.colab.output.renderOutput(dataTable, element);\n",
              "        const docLink = document.createElement('div');\n",
              "        docLink.innerHTML = docLinkHtml;\n",
              "        element.appendChild(docLink);\n",
              "      }\n",
              "    </script>\n",
              "  </div>\n",
              "\n",
              "\n",
              "<div id=\"df-c1f56d15-0ab0-4ccb-87e3-30f6f4ae71a2\">\n",
              "  <button class=\"colab-df-quickchart\" onclick=\"quickchart('df-c1f56d15-0ab0-4ccb-87e3-30f6f4ae71a2')\"\n",
              "            title=\"Suggest charts\"\n",
              "            style=\"display:none;\">\n",
              "\n",
              "<svg xmlns=\"http://www.w3.org/2000/svg\" height=\"24px\"viewBox=\"0 0 24 24\"\n",
              "     width=\"24px\">\n",
              "    <g>\n",
              "        <path d=\"M19 3H5c-1.1 0-2 .9-2 2v14c0 1.1.9 2 2 2h14c1.1 0 2-.9 2-2V5c0-1.1-.9-2-2-2zM9 17H7v-7h2v7zm4 0h-2V7h2v10zm4 0h-2v-4h2v4z\"/>\n",
              "    </g>\n",
              "</svg>\n",
              "  </button>\n",
              "\n",
              "<style>\n",
              "  .colab-df-quickchart {\n",
              "      --bg-color: #E8F0FE;\n",
              "      --fill-color: #1967D2;\n",
              "      --hover-bg-color: #E2EBFA;\n",
              "      --hover-fill-color: #174EA6;\n",
              "      --disabled-fill-color: #AAA;\n",
              "      --disabled-bg-color: #DDD;\n",
              "  }\n",
              "\n",
              "  [theme=dark] .colab-df-quickchart {\n",
              "      --bg-color: #3B4455;\n",
              "      --fill-color: #D2E3FC;\n",
              "      --hover-bg-color: #434B5C;\n",
              "      --hover-fill-color: #FFFFFF;\n",
              "      --disabled-bg-color: #3B4455;\n",
              "      --disabled-fill-color: #666;\n",
              "  }\n",
              "\n",
              "  .colab-df-quickchart {\n",
              "    background-color: var(--bg-color);\n",
              "    border: none;\n",
              "    border-radius: 50%;\n",
              "    cursor: pointer;\n",
              "    display: none;\n",
              "    fill: var(--fill-color);\n",
              "    height: 32px;\n",
              "    padding: 0;\n",
              "    width: 32px;\n",
              "  }\n",
              "\n",
              "  .colab-df-quickchart:hover {\n",
              "    background-color: var(--hover-bg-color);\n",
              "    box-shadow: 0 1px 2px rgba(60, 64, 67, 0.3), 0 1px 3px 1px rgba(60, 64, 67, 0.15);\n",
              "    fill: var(--button-hover-fill-color);\n",
              "  }\n",
              "\n",
              "  .colab-df-quickchart-complete:disabled,\n",
              "  .colab-df-quickchart-complete:disabled:hover {\n",
              "    background-color: var(--disabled-bg-color);\n",
              "    fill: var(--disabled-fill-color);\n",
              "    box-shadow: none;\n",
              "  }\n",
              "\n",
              "  .colab-df-spinner {\n",
              "    border: 2px solid var(--fill-color);\n",
              "    border-color: transparent;\n",
              "    border-bottom-color: var(--fill-color);\n",
              "    animation:\n",
              "      spin 1s steps(1) infinite;\n",
              "  }\n",
              "\n",
              "  @keyframes spin {\n",
              "    0% {\n",
              "      border-color: transparent;\n",
              "      border-bottom-color: var(--fill-color);\n",
              "      border-left-color: var(--fill-color);\n",
              "    }\n",
              "    20% {\n",
              "      border-color: transparent;\n",
              "      border-left-color: var(--fill-color);\n",
              "      border-top-color: var(--fill-color);\n",
              "    }\n",
              "    30% {\n",
              "      border-color: transparent;\n",
              "      border-left-color: var(--fill-color);\n",
              "      border-top-color: var(--fill-color);\n",
              "      border-right-color: var(--fill-color);\n",
              "    }\n",
              "    40% {\n",
              "      border-color: transparent;\n",
              "      border-right-color: var(--fill-color);\n",
              "      border-top-color: var(--fill-color);\n",
              "    }\n",
              "    60% {\n",
              "      border-color: transparent;\n",
              "      border-right-color: var(--fill-color);\n",
              "    }\n",
              "    80% {\n",
              "      border-color: transparent;\n",
              "      border-right-color: var(--fill-color);\n",
              "      border-bottom-color: var(--fill-color);\n",
              "    }\n",
              "    90% {\n",
              "      border-color: transparent;\n",
              "      border-bottom-color: var(--fill-color);\n",
              "    }\n",
              "  }\n",
              "</style>\n",
              "\n",
              "  <script>\n",
              "    async function quickchart(key) {\n",
              "      const quickchartButtonEl =\n",
              "        document.querySelector('#' + key + ' button');\n",
              "      quickchartButtonEl.disabled = true;  // To prevent multiple clicks.\n",
              "      quickchartButtonEl.classList.add('colab-df-spinner');\n",
              "      try {\n",
              "        const charts = await google.colab.kernel.invokeFunction(\n",
              "            'suggestCharts', [key], {});\n",
              "      } catch (error) {\n",
              "        console.error('Error during call to suggestCharts:', error);\n",
              "      }\n",
              "      quickchartButtonEl.classList.remove('colab-df-spinner');\n",
              "      quickchartButtonEl.classList.add('colab-df-quickchart-complete');\n",
              "    }\n",
              "    (() => {\n",
              "      let quickchartButtonEl =\n",
              "        document.querySelector('#df-c1f56d15-0ab0-4ccb-87e3-30f6f4ae71a2 button');\n",
              "      quickchartButtonEl.style.display =\n",
              "        google.colab.kernel.accessAllowed ? 'block' : 'none';\n",
              "    })();\n",
              "  </script>\n",
              "</div>\n",
              "\n",
              "    </div>\n",
              "  </div>\n"
            ],
            "application/vnd.google.colaboratory.intrinsic+json": {
              "type": "dataframe",
              "variable_name": "data"
            }
          },
          "metadata": {},
          "execution_count": 5
        }
      ],
      "source": [
        "data = pd.read_csv('diabetic_data.csv')\n",
        "print(f\"Dataset shape: {data.shape}\")\n",
        "data.head()"
      ]
    },
    {
      "cell_type": "markdown",
      "metadata": {
        "id": "DR_VhZrJZNCG"
      },
      "source": [
        "## 2. Basic Preprocessing"
      ]
    },
    {
      "cell_type": "code",
      "source": [
        "print(f\"Dataset shape: {data.shape}\")"
      ],
      "metadata": {
        "colab": {
          "base_uri": "https://localhost:8080/"
        },
        "id": "we9I_Eb8yFqd",
        "outputId": "9170a3db-5c14-40c7-c3f2-47dd8b48aa67"
      },
      "execution_count": 6,
      "outputs": [
        {
          "output_type": "stream",
          "name": "stdout",
          "text": [
            "Dataset shape: (101766, 50)\n"
          ]
        }
      ]
    },
    {
      "cell_type": "code",
      "execution_count": 7,
      "metadata": {
        "id": "FNPvdEPYZNCG",
        "colab": {
          "base_uri": "https://localhost:8080/"
        },
        "outputId": "a5412ed7-f149-4d13-c68c-00e03dcb4932"
      },
      "outputs": [
        {
          "output_type": "stream",
          "name": "stdout",
          "text": [
            "Columns with more than 40% missing values:\n",
            "['weight', 'medical_specialty', 'max_glu_serum', 'A1Cresult']\n"
          ]
        }
      ],
      "source": [
        "import numpy as np\n",
        "import pandas as pd\n",
        "data = data.replace('?', np.nan)\n",
        "missing_threshold = 0.4\n",
        "high_missing = data.columns[data.isnull().mean() > missing_threshold]\n",
        "print(\"Columns with more than 40% missing values:\")\n",
        "print(high_missing.tolist())\n",
        "data.drop(columns=high_missing, inplace=True)"
      ]
    },
    {
      "cell_type": "code",
      "source": [
        "print(f\"Dataset shape: {data.shape}\")"
      ],
      "metadata": {
        "colab": {
          "base_uri": "https://localhost:8080/"
        },
        "id": "3I97FSc3y1cE",
        "outputId": "9998b7cd-b26c-4548-a334-f1fdd4b6bc1b"
      },
      "execution_count": 8,
      "outputs": [
        {
          "output_type": "stream",
          "name": "stdout",
          "text": [
            "Dataset shape: (101766, 46)\n"
          ]
        }
      ]
    },
    {
      "cell_type": "code",
      "source": [
        "missing_count = data.isna().sum()\n",
        "missing_percent = (data.isna().mean() * 100).round(2)\n",
        "missing_info = pd.DataFrame({\n",
        "    'Missing Count': missing_count,\n",
        "    'Missing %': missing_percent\n",
        "})\n",
        "missing_info = missing_info[missing_info['Missing Count'] > 0].sort_values(by='Missing Count', ascending=False)\n",
        "print(missing_info)"
      ],
      "metadata": {
        "id": "eZtCIaJvvS6g",
        "colab": {
          "base_uri": "https://localhost:8080/"
        },
        "outputId": "8450095c-3a49-4072-95b2-b34e964303e3"
      },
      "execution_count": 9,
      "outputs": [
        {
          "output_type": "stream",
          "name": "stdout",
          "text": [
            "            Missing Count  Missing %\n",
            "payer_code          40256      39.56\n",
            "race                 2273       2.23\n",
            "diag_3               1423       1.40\n",
            "diag_2                358       0.35\n",
            "diag_1                 21       0.02\n"
          ]
        }
      ]
    },
    {
      "cell_type": "code",
      "source": [
        "for col in ['payer_code', 'race']:\n",
        "    mode_val = data[col].mode()[0]\n",
        "    data[col] = data[col].fillna(mode_val)"
      ],
      "metadata": {
        "id": "yydBy2sKv1eH"
      },
      "execution_count": 10,
      "outputs": []
    },
    {
      "cell_type": "code",
      "source": [
        "cols = ['diag_1', 'diag_2', 'diag_3']\n",
        "total_nans = data[cols].isna().sum().sum()\n",
        "print(\"Total NaN values in diag_1, diag_2, and diag_3:\", total_nans)"
      ],
      "metadata": {
        "colab": {
          "base_uri": "https://localhost:8080/"
        },
        "id": "VF2lWkIG8hIg",
        "outputId": "be242ce4-7df3-4a7c-9597-ae07e3b940ec"
      },
      "execution_count": 11,
      "outputs": [
        {
          "output_type": "stream",
          "name": "stdout",
          "text": [
            "Total NaN values in diag_1, diag_2, and diag_3: 1802\n"
          ]
        }
      ]
    },
    {
      "cell_type": "code",
      "source": [
        "cols = ['diag_1', 'diag_2', 'diag_3']\n",
        "data[cols] = data[cols].fillna('00')"
      ],
      "metadata": {
        "id": "wMCs8TuJ1t2P"
      },
      "execution_count": 12,
      "outputs": []
    },
    {
      "cell_type": "code",
      "source": [
        "cols = ['diag_1', 'diag_2', 'diag_3']\n",
        "total_nans = data[cols].isna().sum().sum()\n",
        "print(\"Total NaN values in diag_1, diag_2, and diag_3:\", total_nans)"
      ],
      "metadata": {
        "colab": {
          "base_uri": "https://localhost:8080/"
        },
        "id": "OvLZJtPu_0mc",
        "outputId": "b84d7ebb-7bd9-44de-c747-b55662c22ca6"
      },
      "execution_count": 13,
      "outputs": [
        {
          "output_type": "stream",
          "name": "stdout",
          "text": [
            "Total NaN values in diag_1, diag_2, and diag_3: 0\n"
          ]
        }
      ]
    },
    {
      "cell_type": "code",
      "source": [
        "#Map IDs to Meaningful Labels\n",
        "admission_type_map = {\n",
        "    1: 'Emergency',\n",
        "    2: 'Urgent',\n",
        "    3: 'Elective',\n",
        "    4: 'Newborn',\n",
        "    5: 'Not Available',\n",
        "    6: 'NULL',\n",
        "    7: 'Trauma Center',\n",
        "    8: 'Not Mapped'\n",
        "}\n",
        "\n",
        "data['admission_type'] = data['admission_type_id'].map(admission_type_map)\n",
        "data['admission_type'] = data['admission_type'].replace(\n",
        "    ['Not Available', 'NULL', 'Not Mapped'], 'Unknown'\n",
        ")\n",
        "data.drop(columns=['admission_type_id'], inplace=True)"
      ],
      "metadata": {
        "id": "dCJ-n5ekwbxM"
      },
      "execution_count": 14,
      "outputs": []
    },
    {
      "cell_type": "code",
      "source": [
        "print(data['admission_type'].value_counts())\n",
        "print(\"\\nNumber of unique admission types:\", data['admission_type'].nunique())\n"
      ],
      "metadata": {
        "id": "vDOwtayUtATF",
        "outputId": "904aaae3-2c52-41f4-af86-fcde254d280a",
        "colab": {
          "base_uri": "https://localhost:8080/"
        }
      },
      "execution_count": 15,
      "outputs": [
        {
          "output_type": "stream",
          "name": "stdout",
          "text": [
            "admission_type\n",
            "Emergency        53990\n",
            "Elective         18869\n",
            "Urgent           18480\n",
            "Unknown          10396\n",
            "Trauma Center       21\n",
            "Newborn             10\n",
            "Name: count, dtype: int64\n",
            "\n",
            "Number of unique admission types: 6\n"
          ]
        }
      ]
    },
    {
      "cell_type": "markdown",
      "metadata": {
        "id": "wcLnbxvaZNCH"
      },
      "source": [
        "## 3. Feature Engineering"
      ]
    },
    {
      "cell_type": "code",
      "execution_count": null,
      "metadata": {
        "id": "Vaby9ALCZNCH"
      },
      "outputs": [],
      "source": [
        "# 3.1 Extract temporal features\n",
        "data['admission_month'] = data['admission_date'].dt.month\n",
        "data['admission_day_of_week'] = data['admission_date'].dt.dayofweek\n",
        "data['admission_quarter'] = data['admission_date'].dt.quarter\n",
        "data['is_weekend_admission'] = data['admission_day_of_week'].isin([5, 6]).astype(int)\n",
        "\n",
        "# Visualize readmission rate by day of week\n",
        "day_names = ['Monday', 'Tuesday', 'Wednesday', 'Thursday', 'Friday', 'Saturday', 'Sunday']\n",
        "day_readmission = data.groupby('admission_day_of_week')['readmission_30d'].mean() * 100\n",
        "\n",
        "plt.figure(figsize=(10, 6))\n",
        "day_readmission.plot(kind='bar')\n",
        "plt.title('Readmission Rate by Day of Week')\n",
        "plt.xlabel('Day of Week')\n",
        "plt.ylabel('Readmission Rate (%)')\n",
        "plt.xticks(range(7), day_names)\n",
        "plt.show()"
      ]
    },
    {
      "cell_type": "code",
      "execution_count": null,
      "metadata": {
        "id": "48rDiCARZNCI"
      },
      "outputs": [],
      "source": [
        "# 3.2 Create age groups\n",
        "bins = [0, 40, 65, 75, 100]\n",
        "labels = ['<40', '40-65', '65-75', '>75']\n",
        "data['age_group'] = pd.cut(data['age'], bins=bins, labels=labels)\n",
        "\n",
        "# Visualize readmission rate by age group\n",
        "age_group_readmission = data.groupby('age_group')['readmission_30d'].mean() * 100\n",
        "\n",
        "plt.figure(figsize=(10, 6))\n",
        "age_group_readmission.plot(kind='bar')\n",
        "plt.title('Readmission Rate by Age Group')\n",
        "plt.xlabel('Age Group')\n",
        "plt.ylabel('Readmission Rate (%)')\n",
        "plt.show()"
      ]
    },
    {
      "cell_type": "code",
      "execution_count": null,
      "metadata": {
        "id": "9gSdIxWCZNCJ"
      },
      "outputs": [],
      "source": [
        "# 3.3 Create interaction features\n",
        "data['age_heart_failure'] = data['age'] * data['heart_failure']\n",
        "data['age_diabetes'] = data['age'] * data['diabetes']\n",
        "data['previous_emergency'] = data['previous_admissions'] * data['emergency_admission']\n",
        "data['medication_count_adherence'] = data['medication_count'] * data['medication_adherence']\n",
        "data['comorbidity_count'] = data[['diabetes', 'heart_failure', 'copd', 'hypertension', 'renal_disease']].sum(axis=1)\n",
        "\n",
        "# Visualize readmission rate by comorbidity count\n",
        "comorbidity_readmission = data.groupby('comorbidity_count')['readmission_30d'].mean() * 100\n",
        "\n",
        "plt.figure(figsize=(10, 6))\n",
        "comorbidity_readmission.plot(kind='bar')\n",
        "plt.title('Readmission Rate by Number of Comorbidities')\n",
        "plt.xlabel('Number of Comorbidities')\n",
        "plt.ylabel('Readmission Rate (%)')\n",
        "plt.show()"
      ]
    },
    {
      "cell_type": "code",
      "execution_count": null,
      "metadata": {
        "id": "gXac-Z7uZNCK"
      },
      "outputs": [],
      "source": [
        "# 3.4 Create risk score based on domain knowledge\n",
        "data['risk_score'] = (\n",
        "    0.2 * (data['age'] > 75).astype(int) +\n",
        "    0.15 * data['diabetes'] +\n",
        "    0.25 * data['heart_failure'] +\n",
        "    0.2 * data['copd'] +\n",
        "    0.1 * data['renal_disease'] +\n",
        "    0.05 * (data['previous_admissions'] > 2).astype(int) +\n",
        "    0.15 * (data['medication_count'] > 8).astype(int) -\n",
        "    0.3 * data['medication_adherence'] +\n",
        "    0.1 * data['emergency_admission'] +\n",
        "    0.1 * (data['discharge_disposition'] == 2).astype(int)\n",
        ")\n",
        "\n",
        "# Visualize risk score distribution by readmission status\n",
        "plt.figure(figsize=(10, 6))\n",
        "sns.histplot(data=data, x='risk_score', hue='readmission_30d', bins=30, multiple='dodge')\n",
        "plt.title('Risk Score Distribution by Readmission Status')\n",
        "plt.xlabel('Risk Score')\n",
        "plt.ylabel('Count')\n",
        "plt.legend(['Not Readmitted', 'Readmitted'])\n",
        "plt.show()"
      ]
    },
    {
      "cell_type": "code",
      "execution_count": null,
      "metadata": {
        "id": "TZtIUZJEZNCK"
      },
      "outputs": [],
      "source": [
        "# 3.5 One-hot encode categorical variables\n",
        "data_encoded = pd.get_dummies(data, columns=['gender', 'age_group', 'primary_diagnosis', 'discharge_disposition'], drop_first=True)\n",
        "\n",
        "print(f\"Shape after one-hot encoding: {data_encoded.shape}\")\n",
        "print(f\"New features added: {data_encoded.shape[1] - data.shape[1]}\")"
      ]
    },
    {
      "cell_type": "markdown",
      "metadata": {
        "id": "hQqlLhOKZNCL"
      },
      "source": [
        "## 4. Feature Selection"
      ]
    },
    {
      "cell_type": "code",
      "execution_count": null,
      "metadata": {
        "id": "-_BH_eK6ZNCL"
      },
      "outputs": [],
      "source": [
        "# Prepare data for feature selection\n",
        "# Drop non-feature columns\n",
        "X = data_encoded.drop(columns=['patient_id', 'admission_date', 'discharge_date', 'readmission_30d', 'days_to_readmission'])\n",
        "y = data_encoded['readmission_30d']\n",
        "\n",
        "print(f\"Features shape: {X.shape}\")"
      ]
    },
    {
      "cell_type": "code",
      "execution_count": null,
      "metadata": {
        "id": "xYe72chfZNCM"
      },
      "outputs": [],
      "source": [
        "# 4.1 Feature importance using Random Forest\n",
        "rf = RandomForestClassifier(n_estimators=100, random_state=42)\n",
        "rf.fit(X, y)\n",
        "\n",
        "# Get feature importances\n",
        "importances = rf.feature_importances_\n",
        "indices = np.argsort(importances)[::-1]\n",
        "\n",
        "# Plot the top 20 features\n",
        "plt.figure(figsize=(12, 8))\n",
        "plt.title('Feature Importances')\n",
        "plt.bar(range(20), importances[indices][:20], align='center')\n",
        "plt.xticks(range(20), X.columns[indices][:20], rotation=90)\n",
        "plt.tight_layout()\n",
        "plt.show()\n",
        "\n",
        "# Print top 20 features\n",
        "print(\"Top 20 features by importance:\")\n",
        "for i in range(20):\n",
        "    print(f\"{i+1}. {X.columns[indices][i]}: {importances[indices][i]:.4f}\")"
      ]
    },
    {
      "cell_type": "code",
      "execution_count": null,
      "metadata": {
        "id": "1aPMCVBuZNCM"
      },
      "outputs": [],
      "source": [
        "# 4.2 Statistical feature selection using ANOVA F-value\n",
        "selector = SelectKBest(f_classif, k=20)\n",
        "X_new = selector.fit_transform(X, y)\n",
        "\n",
        "# Get selected feature names\n",
        "mask = selector.get_support()\n",
        "selected_features = X.columns[mask]\n",
        "\n",
        "# Get scores\n",
        "scores = selector.scores_\n",
        "selected_scores = scores[mask]\n",
        "\n",
        "# Sort by score\n",
        "sorted_indices = np.argsort(selected_scores)[::-1]\n",
        "sorted_features = selected_features[sorted_indices]\n",
        "sorted_scores = selected_scores[sorted_indices]\n",
        "\n",
        "# Plot\n",
        "plt.figure(figsize=(12, 8))\n",
        "plt.title('Feature Selection using ANOVA F-value')\n",
        "plt.bar(range(len(sorted_features)), sorted_scores, align='center')\n",
        "plt.xticks(range(len(sorted_features)), sorted_features, rotation=90)\n",
        "plt.tight_layout()\n",
        "plt.show()\n",
        "\n",
        "print(\"Top 20 features by ANOVA F-value:\")\n",
        "for i, (feature, score) in enumerate(zip(sorted_features, sorted_scores)):\n",
        "    print(f\"{i+1}. {feature}: {score:.4f}\")"
      ]
    },
    {
      "cell_type": "code",
      "execution_count": null,
      "metadata": {
        "id": "LIrK45I9ZNCN"
      },
      "outputs": [],
      "source": [
        "# 4.3 Recursive Feature Elimination (RFE)\n",
        "rfe = RFE(estimator=RandomForestClassifier(n_estimators=100, random_state=42), n_features_to_select=20)\n",
        "rfe.fit(X, y)\n",
        "\n",
        "# Get selected feature names\n",
        "rfe_mask = rfe.get_support()\n",
        "rfe_features = X.columns[rfe_mask]\n",
        "\n",
        "print(\"Top 20 features selected by RFE:\")\n",
        "for i, feature in enumerate(rfe_features):\n",
        "    print(f\"{i+1}. {feature}\")"
      ]
    },
    {
      "cell_type": "markdown",
      "metadata": {
        "id": "hhgqB2W1ZNCO"
      },
      "source": [
        "## 5. Compare Feature Selection Methods"
      ]
    },
    {
      "cell_type": "code",
      "execution_count": null,
      "metadata": {
        "id": "OB_oUZzNZNCO"
      },
      "outputs": [],
      "source": [
        "# Compare the features selected by different methods\n",
        "rf_features = X.columns[indices][:20]\n",
        "anova_features = sorted_features\n",
        "\n",
        "# Find common features\n",
        "common_all = set(rf_features) & set(anova_features) & set(rfe_features)\n",
        "common_rf_anova = set(rf_features) & set(anova_features)\n",
        "common_rf_rfe = set(rf_features) & set(rfe_features)\n",
        "common_anova_rfe = set(anova_features) & set(rfe_features)\n",
        "\n",
        "print(f\"Features common to all methods: {len(common_all)}\")\n",
        "print(f\"Features common to RF and ANOVA: {len(common_rf_anova)}\")\n",
        "print(f\"Features common to RF and RFE: {len(common_rf_rfe)}\")\n",
        "print(f\"Features common to ANOVA and RFE: {len(common_anova_rfe)}\")\n",
        "\n",
        "print(\"\\nFeatures common to all methods:\")\n",
        "for feature in common_all:\n",
        "    print(f\"- {feature}\")"
      ]
    },
    {
      "cell_type": "markdown",
      "metadata": {
        "id": "toVdwlfHZNCO"
      },
      "source": [
        "## 6. Final Feature Set"
      ]
    },
    {
      "cell_type": "code",
      "execution_count": null,
      "metadata": {
        "id": "nOQVf3jnZNCO"
      },
      "outputs": [],
      "source": [
        "# Create a final feature set based on the analysis\n",
        "# We'll use features that appear in at least 2 of the 3 methods\n",
        "all_selected_features = list(rf_features) + list(anova_features) + list(rfe_features)\n",
        "feature_counts = pd.Series(all_selected_features).value_counts()\n",
        "final_features = feature_counts[feature_counts >= 2].index.tolist()\n",
        "\n",
        "print(f\"Final feature set size: {len(final_features)}\")\n",
        "print(\"\\nFinal features:\")\n",
        "for feature in final_features:\n",
        "    print(f\"- {feature}\")"
      ]
    },
    {
      "cell_type": "code",
      "execution_count": null,
      "metadata": {
        "id": "0Ugfs6YjZNCP"
      },
      "outputs": [],
      "source": [
        "# Create the final feature matrix\n",
        "X_final = X[final_features]\n",
        "\n",
        "# Scale the features\n",
        "scaler = StandardScaler()\n",
        "X_scaled = scaler.fit_transform(X_final)\n",
        "\n",
        "# Convert back to DataFrame for better visualization\n",
        "X_scaled_data = pd.DataFrame(X_scaled, columns=X_final.columns)\n",
        "\n",
        "print(f\"Final scaled feature matrix shape: {X_scaled_data.shape}\")\n",
        "X_scaled_data.head()"
      ]
    },
    {
      "cell_type": "markdown",
      "metadata": {
        "id": "-g4z9GddZNCP"
      },
      "source": [
        "## 7. Save Processed Data"
      ]
    },
    {
      "cell_type": "code",
      "execution_count": null,
      "metadata": {
        "id": "xoF0cduzZNCP"
      },
      "outputs": [],
      "source": [
        "# Save the final feature set for reference\n",
        "import os\n",
        "os.makedirs('../data/features', exist_ok=True)\n",
        "\n",
        "# Save the list of final features\n",
        "with open('../data/features/final_features.txt', 'w') as f:\n",
        "    for feature in final_features:\n",
        "        f.write(f\"{feature}\\n\")\n",
        "\n",
        "print(f\"Final feature list saved to ../data/features/final_features.txt\")"
      ]
    },
    {
      "cell_type": "code",
      "execution_count": null,
      "metadata": {
        "id": "8ME_49knZNCQ"
      },
      "outputs": [],
      "source": [
        "# Save the full processed dataset\n",
        "# Add the target variable back\n",
        "X_scaled_data['readmission_30d'] = y.values\n",
        "\n",
        "# Save to CSV\n",
        "X_scaled_data.to_csv('../data/features/processed_features.csv', index=False)\n",
        "print(f\"Processed features saved to ../data/features/processed_features.csv\")"
      ]
    },
    {
      "cell_type": "markdown",
      "metadata": {
        "id": "TJor7AqZZNCQ"
      },
      "source": [
        "## 8. Summary of Feature Engineering\n",
        "\n",
        "In this notebook, we performed several feature engineering steps:\n",
        "\n",
        "1. **Temporal Features**:\n",
        "   - Extracted month, day of week, and quarter from admission date\n",
        "   - Created a weekend admission indicator\n",
        "\n",
        "2. **Categorical Transformations**:\n",
        "   - Created age groups\n",
        "   - One-hot encoded categorical variables\n",
        "\n",
        "3. **Interaction Features**:\n",
        "   - Combined age with medical conditions\n",
        "   - Created previous emergency admissions\n",
        "   - Combined medication count and adherence\n",
        "   - Created comorbidity count\n",
        "\n",
        "4. **Domain Knowledge Features**:\n",
        "   - Created a risk score based on clinical factors\n",
        "\n",
        "5. **Feature Selection**:\n",
        "   - Used Random Forest importance\n",
        "   - Applied ANOVA F-value selection\n",
        "   - Performed Recursive Feature Elimination\n",
        "   - Selected features that appeared in at least 2 methods\n",
        "\n",
        "6. **Feature Scaling**:\n",
        "   - Standardized the final feature set\n",
        "\n",
        "The final feature set includes a mix of demographic, medical, temporal, and interaction features that show strong predictive power for hospital readmissions."
      ]
    }
  ],
  "metadata": {
    "kernelspec": {
      "display_name": "Python 3",
      "language": "python",
      "name": "python3"
    },
    "language_info": {
      "codemirror_mode": {
        "name": "ipython",
        "version": 3
      },
      "file_extension": ".py",
      "mimetype": "text/x-python",
      "name": "python",
      "nbconvert_exporter": "python",
      "pygments_lexer": "ipython3",
      "version": "3.8.10"
    },
    "colab": {
      "provenance": []
    }
  },
  "nbformat": 4,
  "nbformat_minor": 0
}